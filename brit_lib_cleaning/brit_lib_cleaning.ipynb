{
 "cells": [
  {
   "cell_type": "code",
   "execution_count": 40,
   "metadata": {},
   "outputs": [],
   "source": [
    "import sys\n",
    "import numpy as np\n",
    "import pandas as pd\n",
    "import matplotlib as plt"
   ]
  },
  {
   "cell_type": "code",
   "execution_count": 56,
   "metadata": {},
   "outputs": [
    {
     "name": "stdout",
     "output_type": "stream",
     "text": [
      "Yes\n"
     ]
    }
   ],
   "source": [
    "def pd_check(var):\n",
    "    if isinstance(var, pd.DataFrame):\n",
    "        print ('Yes')\n",
    "    else:\n",
    "        print('No')\n",
    "        \n",
    "pd_check(lib_rename)"
   ]
  },
  {
   "cell_type": "code",
   "execution_count": 57,
   "metadata": {},
   "outputs": [
    {
     "name": "stdout",
     "output_type": "stream",
     "text": [
      "(8287, 15)\n",
      "Yes\n"
     ]
    }
   ],
   "source": [
    "pd.set_option('display.max_columns', 50)\n",
    "lib = pd.read_csv('BL-Flickr-Images-Book.csv')\n",
    "print(lib.shape)\n",
    "#print(lib.head())\n",
    "\n",
    "lib_rename = lib.rename(index=str, columns={'Identifier': 'id',\n",
    "                                            'Edition Statement': 'edition_statement',\n",
    "                                            'Place of Publication': 'publication_place',\n",
    "                                            'Date of Publication': 'publication_date',\n",
    "                                            'Publisher': 'publisher',\n",
    "                                            'Title': 'title',\n",
    "                                            'Author': 'author',\n",
    "                                            'Contributors': 'contributors',\n",
    "                                            'Corporate Author': 'corp_author',\n",
    "                                            'Corporate Contributors': 'corp_contributors',\n",
    "                                            'Former owner': 'former_owner',\n",
    "                                            'Engraver': 'engraver',\n",
    "                                            'Issuance type': 'issuance_type',\n",
    "                                            'Flickr URL': 'flickr',\n",
    "                                            'Shelfmarks': 'shelfmarks'})\n",
    "print(lib_rename.head())"
   ]
  },
  {
   "cell_type": "code",
   "execution_count": 58,
   "metadata": {
    "scrolled": true
   },
   "outputs": [
    {
     "name": "stdout",
     "output_type": "stream",
     "text": [
      "corp_author [nan]\n",
      "corp_contributors [nan]\n",
      "egnraver [nan]\n",
      "Yes\n"
     ]
    }
   ],
   "source": [
    "print('corp_author ' + str(lib_rename.corp_author.unique()))\n",
    "print('corp_contributors ' + str(lib_rename.corp_contributors.unique()))\n",
    "print('egnraver ' + str(lib_rename.engraver.unique()))\n",
    "\n",
    "lib_rename = lib_rename.drop(['corp_author', 'corp_contributors', 'engraver'], axis=1)\n",
    "pd_check(lib_rename)"
   ]
  },
  {
   "cell_type": "code",
   "execution_count": 55,
   "metadata": {},
   "outputs": [
    {
     "data": {
      "text/plain": [
       "['id',\n",
       " 'edition_statement',\n",
       " 'publication_place',\n",
       " 'publication_date',\n",
       " 'publisher',\n",
       " 'title',\n",
       " 'author',\n",
       " 'contributors',\n",
       " 'former_owner',\n",
       " 'issuance_type',\n",
       " 'flickr',\n",
       " 'shelfmarks']"
      ]
     },
     "execution_count": 55,
     "metadata": {},
     "output_type": "execute_result"
    }
   ],
   "source": [
    "list(lib_rename.columns.values)"
   ]
  }
 ],
 "metadata": {
  "kernelspec": {
   "display_name": "Python 3",
   "language": "python",
   "name": "python3"
  },
  "language_info": {
   "codemirror_mode": {
    "name": "ipython",
    "version": 3
   },
   "file_extension": ".py",
   "mimetype": "text/x-python",
   "name": "python",
   "nbconvert_exporter": "python",
   "pygments_lexer": "ipython3",
   "version": "3.7.0"
  }
 },
 "nbformat": 4,
 "nbformat_minor": 2
}
