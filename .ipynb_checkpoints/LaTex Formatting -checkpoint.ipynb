{
 "cells": [
  {
   "cell_type": "markdown",
   "metadata": {},
   "source": [
    "# LaTex Text Formating Test"
   ]
  },
  {
   "cell_type": "markdown",
   "metadata": {},
   "source": [
    "This is a notebook that is being used to learn how to use LaTex text formatting. Hopefully I will return to this document multiple times."
   ]
  },
  {
   "cell_type": "markdown",
   "metadata": {},
   "source": [
    "__text__\n",
    "_text_\n",
    "~~scratched through~~"
   ]
  },
  {
   "cell_type": "markdown",
   "metadata": {},
   "source": [
    "1. text\n",
    "2. stop\n",
    "    1. what\n",
    "    2. stop\n",
    "    \n",
    "-un\n",
    "-ordered"
   ]
  },
  {
   "cell_type": "markdown",
   "metadata": {},
   "source": [
    "[google](https://www.google.com/)"
   ]
  },
  {
   "cell_type": "markdown",
   "metadata": {},
   "source": [
    "###### Support for 6 levels of headers "
   ]
  },
  {
   "cell_type": "markdown",
   "metadata": {},
   "source": [
    ">this is a block quote. I might use it sometime."
   ]
  },
  {
   "cell_type": "markdown",
   "metadata": {},
   "source": [
    "* item 1\n",
    "* item 2\n",
    "    + item 2.1\n",
    "    + item 2.2\n",
    "        - item 2.2.1\n",
    "            1. item 2.2.1.1"
   ]
  },
  {
   "cell_type": "markdown",
   "metadata": {},
   "source": [
    "Header | HEADER\n",
    "-------|-------------\n",
    "cell   | cell 2\n",
    "cell 3 | cell 4"
   ]
  }
 ],
 "metadata": {
  "kernelspec": {
   "display_name": "Python 3",
   "language": "python",
   "name": "python3"
  },
  "language_info": {
   "codemirror_mode": {
    "name": "ipython",
    "version": 3
   },
   "file_extension": ".py",
   "mimetype": "text/x-python",
   "name": "python",
   "nbconvert_exporter": "python",
   "pygments_lexer": "ipython3",
   "version": "3.6.6"
  }
 },
 "nbformat": 4,
 "nbformat_minor": 2
}
